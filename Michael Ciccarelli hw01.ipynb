{
  "nbformat": 4,
  "nbformat_minor": 0,
  "metadata": {
    "colab": {
      "provenance": [],
      "include_colab_link": true
    },
    "kernelspec": {
      "name": "python3",
      "display_name": "Python 3"
    },
    "language_info": {
      "name": "python"
    }
  },
  "cells": [
    {
      "cell_type": "markdown",
      "metadata": {
        "id": "view-in-github",
        "colab_type": "text"
      },
      "source": [
        "<a href=\"https://colab.research.google.com/github/ciccmeek/Michael-Ciccarelli-FNCE-Python/blob/main/Michael%20Ciccarelli%20hw01.ipynb\" target=\"_parent\"><img src=\"https://colab.research.google.com/assets/colab-badge.svg\" alt=\"Open In Colab\"/></a>"
      ]
    },
    {
      "cell_type": "markdown",
      "source": [
        "# HW 01"
      ],
      "metadata": {
        "id": "JaguTAItuC48"
      }
    },
    {
      "cell_type": "markdown",
      "source": [
        "### Q1. Write a program to input your age and print whether you are more than or less than a billion seconds old."
      ],
      "metadata": {
        "id": "8N08oInsuN8g"
      }
    },
    {
      "cell_type": "code",
      "execution_count": null,
      "metadata": {
        "id": "KlPvWPxRuCVz",
        "colab": {
          "base_uri": "https://localhost:8080/"
        },
        "outputId": "0922d422-1082-4182-b2d3-5873e2c04593"
      },
      "outputs": [
        {
          "output_type": "stream",
          "name": "stdout",
          "text": [
            "What is your age in years: 21\n",
            "You are less than a billion seconds old.\n"
          ]
        }
      ],
      "source": [
        "\n",
        "age_in_years = int(input(\"What is your age in years: \"))\n",
        "\n",
        "age_in_seconds = age_in_years * 365 * 24 * 60 * 60\n",
        "\n",
        "if age_in_seconds > 1000000000:\n",
        "    print(\"You are more than a billion seconds old.\")\n",
        "else:\n",
        "    print(\"You are less than a billion seconds old.\")\n"
      ]
    },
    {
      "cell_type": "markdown",
      "source": [
        "### Q2. Create a list with 10 names. Print each name with a Good morning greeting with the name using a conditional loop.\n",
        "\n",
        "For example\n",
        "\n",
        "`name = ['Ashley', 'Brianna', 'Chetan', 'David', 'Eoin', 'Francois', 'Gemma', 'Hameed', 'Ishaan', 'Joanna']`\n",
        "\n",
        "Outputs will be 'Good morning, Ashley', 'Good morning, Brianna', and so on."
      ],
      "metadata": {
        "id": "X3IPYLTgvnDh"
      }
    },
    {
      "cell_type": "code",
      "source": [
        "## Enter answer here.\n",
        "name = ['Michael', 'Jack', 'Kevin', 'Jake', 'Alan', 'Blaise', 'Ellie', 'Jamie', 'Bella', 'Ivan']\n",
        "\n",
        "for i in name:\n",
        "    print('Good morning, ' + i)\n"
      ],
      "metadata": {
        "id": "MFG2cvatvmr2",
        "colab": {
          "base_uri": "https://localhost:8080/"
        },
        "outputId": "591af73d-db75-45be-c9cd-afdd4e499a76"
      },
      "execution_count": null,
      "outputs": [
        {
          "output_type": "stream",
          "name": "stdout",
          "text": [
            "Good morning, Michael\n",
            "Good morning, Jack\n",
            "Good morning, Kevin\n",
            "Good morning, Jake\n",
            "Good morning, Alan\n",
            "Good morning, Blaise\n",
            "Good morning, Ellie\n",
            "Good morning, Jamie\n",
            "Good morning, Bella\n",
            "Good morning, Ivan\n"
          ]
        }
      ]
    },
    {
      "cell_type": "markdown",
      "source": [
        "### Q3. Create a list of 15 numbers. Print only those numbers that are divisible by 2."
      ],
      "metadata": {
        "id": "niM878Jrx1bf"
      }
    },
    {
      "cell_type": "code",
      "source": [
        "## Enter answer here.\n",
        "numbers = list(range(1, 15))\n",
        "\n",
        "for number in numbers:\n",
        "    if number % 2 == 0:\n",
        "      print(number)\n"
      ],
      "metadata": {
        "id": "m7XjkMn8uUY2",
        "colab": {
          "base_uri": "https://localhost:8080/"
        },
        "outputId": "3318365b-9995-4a14-9ea7-10b66e877501"
      },
      "execution_count": null,
      "outputs": [
        {
          "output_type": "stream",
          "name": "stdout",
          "text": [
            "2\n",
            "4\n",
            "6\n",
            "8\n",
            "10\n",
            "12\n",
            "14\n"
          ]
        }
      ]
    },
    {
      "cell_type": "markdown",
      "source": [
        "### Q4. Print the squared numbers of a list containing at least 10 numbers with a mix of float, integer, and negative numbers. Use the longer method as well as list comprehension.\n",
        "\n",
        "You can either generate your own list of 10 numbers or find use a random number generator."
      ],
      "metadata": {
        "id": "u1kyA9ksy_JI"
      }
    },
    {
      "cell_type": "code",
      "source": [
        "## Enter answer here.\n",
        "\n",
        "nums = [0,-1.25,15.86,-25]\n",
        "method1_squares = []\n",
        "\n",
        "for i in nums:\n",
        "    method1_squares.append(i**2)\n",
        "\n",
        "print(method1_squares)\n",
        "\n",
        "## Now method 2\n"
      ],
      "metadata": {
        "colab": {
          "base_uri": "https://localhost:8080/"
        },
        "id": "UFHMdDgEuUbD",
        "outputId": "57fb1495-4b74-458e-fbeb-ebe2b298416e"
      },
      "execution_count": null,
      "outputs": [
        {
          "output_type": "stream",
          "name": "stdout",
          "text": [
            "[0, 1.5625, 251.53959999999998, 625]\n"
          ]
        }
      ]
    },
    {
      "cell_type": "markdown",
      "source": [
        "### Q5. Write a program to print a year if it is a leap year."
      ],
      "metadata": {
        "id": "0ZBlFovqA7G9"
      }
    },
    {
      "cell_type": "markdown",
      "source": [],
      "metadata": {
        "id": "OK1ctUfqA6mP"
      }
    },
    {
      "cell_type": "code",
      "source": [
        "year = int(input())\n",
        "\n",
        "if year%4 == 0:\n",
        "    print(year, \"is a leap year\")\n",
        "else:\n",
        "    print(year, \"is not a leap year\")"
      ],
      "metadata": {
        "id": "QwfOIh36uUeM",
        "colab": {
          "base_uri": "https://localhost:8080/"
        },
        "outputId": "9c82b476-399e-4426-fea9-57b276fa6619"
      },
      "execution_count": null,
      "outputs": [
        {
          "output_type": "stream",
          "name": "stdout",
          "text": [
            "2024\n",
            "2024 is a leap year\n"
          ]
        }
      ]
    },
    {
      "cell_type": "markdown",
      "source": [
        "### Q6. Use list comprensions to print all names in a list in upper case."
      ],
      "metadata": {
        "id": "_FRSvLlgArOJ"
      }
    },
    {
      "cell_type": "code",
      "source": [
        "names = ['Michael', 'Jack', 'Kevin', 'Jake', 'Alan', 'Blaise', 'Ellie', 'Jamie', 'Bella', 'Ivan']\n",
        "upper_case_names = [name.upper() for name in names]\n",
        "upper_case_names"
      ],
      "metadata": {
        "id": "CwPIZcFQuUhD",
        "colab": {
          "base_uri": "https://localhost:8080/"
        },
        "outputId": "47ea5f78-aa70-45d8-cc05-9edc2b3f851e"
      },
      "execution_count": null,
      "outputs": [
        {
          "output_type": "execute_result",
          "data": {
            "text/plain": [
              "['MICHAEL',\n",
              " 'JACK',\n",
              " 'KEVIN',\n",
              " 'JAKE',\n",
              " 'ALAN',\n",
              " 'BLAISE',\n",
              " 'ELLIE',\n",
              " 'JAMIE',\n",
              " 'BELLA',\n",
              " 'IVAN']"
            ]
          },
          "metadata": {},
          "execution_count": 15
        }
      ]
    },
    {
      "cell_type": "markdown",
      "source": [
        "### Q7. Question on NUMPY arrays:\n",
        "\n",
        "a. Create a numpy array called `original` with 100 random numbers. What is the largest number, smallest number, max, min, median, and standard deviation of your array? Print them.\n",
        "\n",
        "HINT: use `np.random.uniform()`. Check online for the correct syntax. `np.random.rand(100)` will give you 100 random numbers of uniform distribution with mean 0 and standard deviation of 1, while we want a mix of larger numbers/integers.\n",
        "\n",
        "b. Now create an array called `orig_sqrt` which contains the square roots of the numbers in the original array.\n",
        "\n",
        "### Q8.  Converting 1D arrays into 2D arrays.\n",
        "\n",
        "a. Convert your original array of 100 random numbers into a 2-dimensional array called `mat_array` with 20 rows and 5 columns. Print this array.\n",
        "\n",
        "b. What is the mean of every column in `mat_array`?\n",
        "\n",
        "c. What is the sum of every row? Create a list of 20 elements that contains the sum of every row in `mat_array`.\n",
        "\n",
        "d. Create the transpose of `mat_array` and call it `transpose_array`. What are the dimensions of this array now? Again, find the mean of each column and the sum of each row.\n",
        "\n",
        "### Q9. Array slicing:\n",
        "\n",
        "a. create a new array which contains the 3rd-10th rows and all columns of `mat_array`. Print.\n",
        "\n",
        "b. Print a new array which contains the the last 5 rows and the last 2 columns of `mat_array`. What is the dimension of this array?\n",
        "\n",
        "c. Print a new array which contains the first 3 rows and last 10 columns of `transpose_array`."
      ],
      "metadata": {
        "id": "ulp3oxOZHt5r"
      }
    },
    {
      "cell_type": "code",
      "source": [
        "# Write your answer here. Feel free to break your answer into different blocks of code rather than using just this one cell. Label your answer neatly.\n",
        "import numpy as np\n",
        "\n",
        "original = np.random.uniform(low=-100, high=100, size=100)\n",
        "\n",
        "print(\"Largest number:\", np.max(original))\n",
        "print(\"Smallest number:\", np.min(original))\n",
        "print(\"Max:\", np.max(original))\n",
        "print(\"Min:\", np.min(original))\n",
        "print(\"Median:\", np.median(original))\n",
        "print(\"Standard deviation:\", np.std(original))\n",
        "\n",
        "orig_sqrt = np.sqrt(original)\n",
        "\n"
      ],
      "metadata": {
        "id": "M6EBbfr7Iaas",
        "colab": {
          "base_uri": "https://localhost:8080/"
        },
        "outputId": "c356449a-7349-423e-ce2f-5b16d4befbbd"
      },
      "execution_count": null,
      "outputs": [
        {
          "output_type": "stream",
          "name": "stdout",
          "text": [
            "Largest number: 98.45894095128241\n",
            "Smallest number: -98.27156887483375\n",
            "Max: 98.45894095128241\n",
            "Min: -98.27156887483375\n",
            "Median: 1.7033529740696238\n",
            "Standard deviation: 56.98030832135982\n"
          ]
        },
        {
          "output_type": "stream",
          "name": "stderr",
          "text": [
            "<ipython-input-16-6158c1f50e1a>:13: RuntimeWarning: invalid value encountered in sqrt\n",
            "  orig_sqrt = np.sqrt(original)\n"
          ]
        }
      ]
    },
    {
      "cell_type": "code",
      "source": [
        "\n",
        "import numpy as np\n",
        "\n",
        "original = np.random.uniform(low=-100, high=100, size=100)\n",
        "mat_array = original.reshape(20, 5)\n",
        "print(\"mat_array:\\n\", mat_array)\n",
        "\n",
        "column_means = np.mean(mat_array, axis=0)\n",
        "print(\"\\nMean of every column in mat_array:\\n\", column_means)\n",
        "\n",
        "row_sums = np.sum(mat_array, axis=1)\n",
        "print(\"\\nSum of every row in mat_array:\\n\", row_sums)\n",
        "\n",
        "transpose_array = mat_array.T\n",
        "print(\"\\nDimensions of transpose_array:\", transpose_array.shape)\n",
        "\n",
        "column_means_transpose = np.mean(transpose_array, axis=0)\n",
        "print(\"\\nMean of every column in transpose_array:\\n\", column_means_transpose)\n",
        "\n",
        "row_sums_transpose = np.sum(transpose_array, axis=1)\n",
        "print(\"\\nSum of every row in transpose_array:\\n\", row_sums_transpose)\n"
      ],
      "metadata": {
        "id": "at-4INjLLyei",
        "colab": {
          "base_uri": "https://localhost:8080/"
        },
        "outputId": "44188ab7-6e60-41ab-97f5-ebebfc79014b"
      },
      "execution_count": null,
      "outputs": [
        {
          "output_type": "stream",
          "name": "stdout",
          "text": [
            "mat_array:\n",
            " [[ 64.90126222 -36.16672355 -94.19221874 -17.21382951 -30.41701945]\n",
            " [ 96.03473601   7.29785803 -50.19316649 -36.26489895  31.69258008]\n",
            " [-11.44079602  -7.81332082 -15.6589385  -23.21538703  53.29663762]\n",
            " [-43.94429946 -53.04159964  87.93068318  65.56108888  52.58536131]\n",
            " [ 40.8314686    9.09205548  40.37625322 -96.64169419  56.53129838]\n",
            " [-77.18950314 -38.27177032 -79.55303797 -79.58748517  65.4313862 ]\n",
            " [-51.80411577  17.72612508   1.1026691  -82.4053339  -82.26113392]\n",
            " [ 64.5196376   84.27631367 -38.77958649  65.92416311  48.90515676]\n",
            " [-54.97377812  67.10952776 -77.98423644 -83.66129962 -81.33479081]\n",
            " [ 33.84817783  -7.47973788 -89.01525605  34.15798046  92.08661703]\n",
            " [-39.97620439 -91.36352127 -96.16182019  57.10548746  67.36510726]\n",
            " [ 71.91032171 -20.37927018  29.16383212 -75.85453395 -42.42703484]\n",
            " [-52.41121382 -83.88301866  48.17405616  72.97613065  68.14038689]\n",
            " [-51.28007114  33.73618604 -75.94832926 -38.65356762  80.14015142]\n",
            " [-47.0014073   58.76734908  28.82866903 -64.17973574  46.21705237]\n",
            " [-45.51646693  29.87118543   4.24591549 -66.05388355 -78.4168838 ]\n",
            " [-52.21521557 -31.65796495  -6.66715529  55.99924534  15.28911274]\n",
            " [-91.6042636   35.89308882  89.02845538 -93.42774329  45.0524409 ]\n",
            " [ 34.9649756  -49.28027079 -12.39762825 -13.04866801 -48.4776889 ]\n",
            " [ 65.26654031   7.42045017 -70.40851693  30.69167982  50.36929059]]\n",
            "\n",
            "Mean of every column in mat_array:\n",
            " [ -7.35401077  -3.40735293 -18.90546785 -19.38961424  20.48840139]\n",
            "\n",
            "Sum of every row in mat_array:\n",
            " [-113.08852903   48.56710868   -4.83180474  109.09123427   50.18938149\n",
            " -209.1704104  -197.64178942  224.84568465 -230.84457723   63.5977814\n",
            " -103.03095114  -37.58668514   52.99634121  -52.00563056   22.63192744\n",
            " -155.87013336  -19.25197773  -15.05802179  -88.23928035   83.33944397]\n",
            "\n",
            "Dimensions of transpose_array: (5, 20)\n",
            "\n",
            "Mean of every column in transpose_array:\n",
            " [-22.61770581   9.71342174  -0.96636095  21.81824685  10.0378763\n",
            " -41.83408208 -39.52835788  44.96913693 -46.16891545  12.71955628\n",
            " -20.60619023  -7.51733703  10.59926824 -10.40112611   4.52638549\n",
            " -31.17402667  -3.85039555  -3.01160436 -17.64785607  16.66788879]\n",
            "\n",
            "Sum of every row in transpose_array:\n",
            " [-147.08021538  -68.1470585  -378.10935692 -387.79228482  409.76802783]\n"
          ]
        }
      ]
    },
    {
      "cell_type": "code",
      "source": [
        "\n",
        "mat_array_slice = mat_array[2:10, :]\n",
        "print(\"mat_array_slice:\\n\", mat_array_slice)\n",
        "\n",
        "mat_array_slice2 = mat_array[-5:, -2:] # last 5 rows, last 2 columns\n",
        "print(\"\\nmat_array_slice2:\\n\", mat_array_slice2)\n",
        "print(\"\\nDimensions of mat_array_slice2:\", mat_array_slice2.shape)\n",
        "\n",
        "transpose_array_slice = transpose_array[:3, -10:] # first 3 rows, last 10 columns\n",
        "print(\"\\ntranspose_array_slice:\\n\", transpose_array_slice)\n"
      ],
      "metadata": {
        "colab": {
          "base_uri": "https://localhost:8080/"
        },
        "id": "S6KCiF9aZF0v",
        "outputId": "4cc097aa-b5a0-46ac-b5e4-494a5297c797"
      },
      "execution_count": null,
      "outputs": [
        {
          "output_type": "stream",
          "name": "stdout",
          "text": [
            "mat_array_slice:\n",
            " [[-11.44079602  -7.81332082 -15.6589385  -23.21538703  53.29663762]\n",
            " [-43.94429946 -53.04159964  87.93068318  65.56108888  52.58536131]\n",
            " [ 40.8314686    9.09205548  40.37625322 -96.64169419  56.53129838]\n",
            " [-77.18950314 -38.27177032 -79.55303797 -79.58748517  65.4313862 ]\n",
            " [-51.80411577  17.72612508   1.1026691  -82.4053339  -82.26113392]\n",
            " [ 64.5196376   84.27631367 -38.77958649  65.92416311  48.90515676]\n",
            " [-54.97377812  67.10952776 -77.98423644 -83.66129962 -81.33479081]\n",
            " [ 33.84817783  -7.47973788 -89.01525605  34.15798046  92.08661703]]\n",
            "\n",
            "mat_array_slice2:\n",
            " [[-66.05388355 -78.4168838 ]\n",
            " [ 55.99924534  15.28911274]\n",
            " [-93.42774329  45.0524409 ]\n",
            " [-13.04866801 -48.4776889 ]\n",
            " [ 30.69167982  50.36929059]]\n",
            "\n",
            "Dimensions of mat_array_slice2: (5, 2)\n",
            "\n",
            "transpose_array_slice:\n",
            " [[-39.97620439  71.91032171 -52.41121382 -51.28007114 -47.0014073\n",
            "  -45.51646693 -52.21521557 -91.6042636   34.9649756   65.26654031]\n",
            " [-91.36352127 -20.37927018 -83.88301866  33.73618604  58.76734908\n",
            "   29.87118543 -31.65796495  35.89308882 -49.28027079   7.42045017]\n",
            " [-96.16182019  29.16383212  48.17405616 -75.94832926  28.82866903\n",
            "    4.24591549  -6.66715529  89.02845538 -12.39762825 -70.40851693]]\n"
          ]
        }
      ]
    },
    {
      "cell_type": "markdown",
      "source": [
        "### Q10. Assume you are inviting 15 friends to your party. You guest list has the following dietary preference.\n",
        "\n",
        "`diet = ['vegetarian', 'pescetarian', 'vegetarian', 'omnivore', 'pescetarian', 'keto', 'keto', 'vegan', 'omnivore', 'omnivore', 'vegan', 'omnivore', 'keto, 'vegetarian', 'vegan']`\n",
        "\n",
        "Their ages are as follows:\n",
        "\n",
        "`age = [21, 20, 19, 25, 27, 18, 23, 25, 19, 22, 20, 20, 23, 21, 24]`\n",
        "\n",
        "Create a list called `menu` which will contain 'veg. fried rice with whiskey' for vegans and vegetarians aged 21 and above,  'veg. fried rice with mocktail' for vegans and vegetarians aged below 21. Follow the same logic and assign fish and white wine to pescetarians of legal age (and fish with mocktail to those below 21). Keto and omnivore guests above 21 will have 'steak and red wine'. Complete the series with the appropriate drink for underage guests."
      ],
      "metadata": {
        "id": "cIhCARNRLzKy"
      }
    },
    {
      "cell_type": "code",
      "source": [
        "# Write your answer here.\n",
        "import numpy as np\n",
        "\n",
        "diet = ['vegetarian', 'pescetarian', 'vegetarian', 'omnivore', 'pescetarian', 'keto', 'keto', 'vegan', 'omnivore', 'omnivore', 'vegan', 'omnivore', 'keto', 'vegetarian', 'vegan']\n",
        "age = [21, 20, 19, 25, 27, 18, 23, 25, 19, 22, 20, 20, 23, 21, 24]\n",
        "\n",
        "menu = []\n",
        "for i in range(len(diet)):\n",
        "  if diet[i] in ('vegetarian', 'vegan'):\n",
        "    if age[i] >= 21:\n",
        "      menu.append('veg. fried rice with whiskey')\n",
        "    else:\n",
        "      menu.append('veg. fried rice with mocktail')\n",
        "  elif diet[i] == 'pescetarian':\n",
        "    if age[i] >= 21:\n",
        "      menu.append('fish and white wine')\n",
        "    else:\n",
        "      menu.append('fish with mocktail')\n",
        "  elif diet[i] in ('keto', 'omnivore'):\n",
        "    if age[i] >= 21:\n",
        "      menu.append('steak and red wine')\n",
        "    else:\n",
        "      menu.append('steak and red grape juice') # Assuming a non-alcoholic option for underage guests\n",
        "\n",
        "menu"
      ],
      "metadata": {
        "id": "P7Xuiz6JOR5_",
        "colab": {
          "base_uri": "https://localhost:8080/"
        },
        "outputId": "fa8228e3-6630-413e-8857-8799b0ed39f1"
      },
      "execution_count": null,
      "outputs": [
        {
          "output_type": "execute_result",
          "data": {
            "text/plain": [
              "['veg. fried rice with whiskey',\n",
              " 'fish with mocktail',\n",
              " 'veg. fried rice with mocktail',\n",
              " 'steak and red wine',\n",
              " 'fish and white wine',\n",
              " 'steak and red grape juice',\n",
              " 'steak and red wine',\n",
              " 'veg. fried rice with whiskey',\n",
              " 'steak and red grape juice',\n",
              " 'steak and red wine',\n",
              " 'veg. fried rice with mocktail',\n",
              " 'steak and red grape juice',\n",
              " 'steak and red wine',\n",
              " 'veg. fried rice with whiskey',\n",
              " 'veg. fried rice with whiskey']"
            ]
          },
          "metadata": {},
          "execution_count": 8
        }
      ]
    }
  ]
}