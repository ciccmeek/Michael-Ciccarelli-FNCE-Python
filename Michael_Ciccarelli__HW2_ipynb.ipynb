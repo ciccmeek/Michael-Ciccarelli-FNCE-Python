{
  "cells": [
    {
      "cell_type": "markdown",
      "metadata": {
        "id": "view-in-github",
        "colab_type": "text"
      },
      "source": [
        "<a href=\"https://colab.research.google.com/github/ciccmeek/Michael-Ciccarelli-FNCE-Python/blob/main/Michael_Ciccarelli__HW2_ipynb.ipynb\" target=\"_parent\"><img src=\"https://colab.research.google.com/assets/colab-badge.svg\" alt=\"Open In Colab\"/></a>"
      ]
    },
    {
      "cell_type": "markdown",
      "metadata": {
        "id": "Az6-dTTPZaKS"
      },
      "source": [
        "Special thanks to: https://github.com/justmarkham for sharing the dataset and materials."
      ]
    },
    {
      "cell_type": "code",
      "execution_count": null,
      "metadata": {
        "id": "JXY1RV6CZaKS"
      },
      "outputs": [],
      "source": [
        "import pandas as pd\n",
        "import numpy as np"
      ]
    },
    {
      "cell_type": "markdown",
      "metadata": {
        "id": "twy9DviyZaKT"
      },
      "source": [
        "### Step 3. Read the following URL and assign it to a variable called chipo.    \n",
        "NOTE: It is a TSV file, not CSV. Find out how to read TSV using read_csv in Pandas.\n",
        "\n"
      ]
    },
    {
      "cell_type": "code",
      "execution_count": null,
      "metadata": {
        "id": "A1AAH0_aZaKU"
      },
      "outputs": [],
      "source": [
        "url = 'https://raw.githubusercontent.com/justmarkham/DAT8/master/data/chipotle.tsv'\n",
        "\n",
        "chipo = pd.read_csv(url, sep = '\\t')"
      ]
    },
    {
      "cell_type": "markdown",
      "metadata": {
        "id": "jJ13PCzbZaKU"
      },
      "source": [
        "### Show/print the first **20** entries"
      ]
    },
    {
      "cell_type": "code",
      "source": [
        "print(chipo.head(20))"
      ],
      "metadata": {
        "colab": {
          "base_uri": "https://localhost:8080/"
        },
        "id": "gkc9-qQ9fx_A",
        "outputId": "786cf82f-d18d-4b91-86b7-064e7ffb9089"
      },
      "execution_count": null,
      "outputs": [
        {
          "output_type": "stream",
          "name": "stdout",
          "text": [
            "    order_id  quantity                              item_name  \\\n",
            "0          1         1           Chips and Fresh Tomato Salsa   \n",
            "1          1         1                                   Izze   \n",
            "2          1         1                       Nantucket Nectar   \n",
            "3          1         1  Chips and Tomatillo-Green Chili Salsa   \n",
            "4          2         2                           Chicken Bowl   \n",
            "5          3         1                           Chicken Bowl   \n",
            "6          3         1                          Side of Chips   \n",
            "7          4         1                          Steak Burrito   \n",
            "8          4         1                       Steak Soft Tacos   \n",
            "9          5         1                          Steak Burrito   \n",
            "10         5         1                    Chips and Guacamole   \n",
            "11         6         1                   Chicken Crispy Tacos   \n",
            "12         6         1                     Chicken Soft Tacos   \n",
            "13         7         1                           Chicken Bowl   \n",
            "14         7         1                    Chips and Guacamole   \n",
            "15         8         1  Chips and Tomatillo-Green Chili Salsa   \n",
            "16         8         1                        Chicken Burrito   \n",
            "17         9         1                        Chicken Burrito   \n",
            "18         9         2                            Canned Soda   \n",
            "19        10         1                           Chicken Bowl   \n",
            "\n",
            "                                   choice_description item_price  \n",
            "0                                                 NaN     $2.39   \n",
            "1                                        [Clementine]     $3.39   \n",
            "2                                             [Apple]     $3.39   \n",
            "3                                                 NaN     $2.39   \n",
            "4   [Tomatillo-Red Chili Salsa (Hot), [Black Beans...    $16.98   \n",
            "5   [Fresh Tomato Salsa (Mild), [Rice, Cheese, Sou...    $10.98   \n",
            "6                                                 NaN     $1.69   \n",
            "7   [Tomatillo Red Chili Salsa, [Fajita Vegetables...    $11.75   \n",
            "8   [Tomatillo Green Chili Salsa, [Pinto Beans, Ch...     $9.25   \n",
            "9   [Fresh Tomato Salsa, [Rice, Black Beans, Pinto...     $9.25   \n",
            "10                                                NaN     $4.45   \n",
            "11  [Roasted Chili Corn Salsa, [Fajita Vegetables,...     $8.75   \n",
            "12  [Roasted Chili Corn Salsa, [Rice, Black Beans,...     $8.75   \n",
            "13  [Fresh Tomato Salsa, [Fajita Vegetables, Rice,...    $11.25   \n",
            "14                                                NaN     $4.45   \n",
            "15                                                NaN     $2.39   \n",
            "16  [Tomatillo-Green Chili Salsa (Medium), [Pinto ...     $8.49   \n",
            "17  [Fresh Tomato Salsa (Mild), [Black Beans, Rice...     $8.49   \n",
            "18                                           [Sprite]     $2.18   \n",
            "19  [Tomatillo Red Chili Salsa, [Fajita Vegetables...     $8.75   \n"
          ]
        }
      ]
    },
    {
      "cell_type": "markdown",
      "metadata": {
        "id": "lYqPxFM2ZaKV"
      },
      "source": [
        "### What is the number of observations in the dataset?"
      ]
    },
    {
      "cell_type": "code",
      "execution_count": null,
      "metadata": {
        "id": "5WAbyCVnZaKV",
        "colab": {
          "base_uri": "https://localhost:8080/"
        },
        "outputId": "467e2c30-48d8-4455-ca68-92aacb0b6239"
      },
      "outputs": [
        {
          "output_type": "execute_result",
          "data": {
            "text/plain": [
              "4622"
            ]
          },
          "metadata": {},
          "execution_count": 8
        }
      ],
      "source": [
        "# Solution\n",
        "chipo.shape[0]"
      ]
    },
    {
      "cell_type": "markdown",
      "metadata": {
        "id": "1VdaeFMUZaKV"
      },
      "source": [
        "### What is the number of columns in the dataset? Names of the columns in the dataset?"
      ]
    },
    {
      "cell_type": "code",
      "source": [
        "print(\"Number of Columns in the Dataset\")\n",
        "print(chipo.shape[1])\n",
        "\n",
        "#names of columns\n",
        "print(\"Names of Columns\")\n",
        "chipo.columns"
      ],
      "metadata": {
        "colab": {
          "base_uri": "https://localhost:8080/"
        },
        "id": "vdFJKUwhgEfJ",
        "outputId": "e8388e64-8a8d-4a48-b67e-238fe9f5cd83"
      },
      "execution_count": null,
      "outputs": [
        {
          "output_type": "stream",
          "name": "stdout",
          "text": [
            "Number of Columns in the Dataset\n",
            "5\n",
            "Names of Columns\n"
          ]
        },
        {
          "output_type": "execute_result",
          "data": {
            "text/plain": [
              "Index(['order_id', 'quantity', 'item_name', 'choice_description',\n",
              "       'item_price'],\n",
              "      dtype='object')"
            ]
          },
          "metadata": {},
          "execution_count": 11
        }
      ]
    },
    {
      "cell_type": "markdown",
      "metadata": {
        "id": "Piuenk9EZaKW"
      },
      "source": [
        "### What was the most-ordered item? In how much quantity in total was it ordered?\n",
        "\n"
      ]
    },
    {
      "cell_type": "code",
      "source": [
        "c = chipo.groupby('item_name')\n",
        "c = c.sum()\n",
        "c = c.sort_values(['quantity'], ascending=False)\n",
        "print(c.head(1))"
      ],
      "metadata": {
        "id": "3Jg4pQJD76eh",
        "colab": {
          "base_uri": "https://localhost:8080/"
        },
        "outputId": "04e0e615-6b4f-434d-98b3-d53814a99cc4"
      },
      "execution_count": null,
      "outputs": [
        {
          "output_type": "stream",
          "name": "stdout",
          "text": [
            "              order_id  quantity  \\\n",
            "item_name                          \n",
            "Chicken Bowl    713926       761   \n",
            "\n",
            "                                             choice_description  \\\n",
            "item_name                                                         \n",
            "Chicken Bowl  [Tomatillo-Red Chili Salsa (Hot), [Black Beans...   \n",
            "\n",
            "                                                     item_price  \n",
            "item_name                                                        \n",
            "Chicken Bowl  $16.98 $10.98 $11.25 $8.75 $8.49 $11.25 $8.75 ...  \n"
          ]
        }
      ]
    },
    {
      "cell_type": "markdown",
      "metadata": {
        "id": "ZPRQl-aqZaKX"
      },
      "source": [
        "\n",
        "### What was the most ordered item in the choice_description column? How many were ordered?"
      ]
    },
    {
      "cell_type": "code",
      "source": [
        "c = chipo.groupby('choice_description').sum()\n",
        "c = c.sort_values(['quantity'], ascending=False)\n",
        "print(c.head(1))\n"
      ],
      "metadata": {
        "colab": {
          "base_uri": "https://localhost:8080/"
        },
        "id": "LGl0wVIniw0z",
        "outputId": "42cd1450-54ef-445b-ce04-85a88a917ad7"
      },
      "execution_count": null,
      "outputs": [
        {
          "output_type": "stream",
          "name": "stdout",
          "text": [
            "                    order_id  quantity  \\\n",
            "choice_description                       \n",
            "[Diet Coke]           123455       159   \n",
            "\n",
            "                                                            item_name  \\\n",
            "choice_description                                                      \n",
            "[Diet Coke]         Canned SodaCanned SodaCanned Soda6 Pack Soft D...   \n",
            "\n",
            "                                                           item_price  \n",
            "choice_description                                                     \n",
            "[Diet Coke]         $2.18 $1.09 $1.09 $6.49 $2.18 $1.25 $1.09 $6.4...  \n"
          ]
        }
      ]
    },
    {
      "cell_type": "markdown",
      "metadata": {
        "id": "sS6VF2J8ZaKX"
      },
      "source": [
        "### How many items were orderd in total?"
      ]
    },
    {
      "cell_type": "code",
      "source": [
        "total_items_ordered = chipo['quantity'].sum()\n",
        "total_items_ordered"
      ],
      "metadata": {
        "colab": {
          "base_uri": "https://localhost:8080/"
        },
        "id": "pvO4hbhmjCR0",
        "outputId": "ee634fcc-82b5-428e-f1be-9b49bf99c091"
      },
      "execution_count": null,
      "outputs": [
        {
          "output_type": "execute_result",
          "data": {
            "text/plain": [
              "4972"
            ]
          },
          "metadata": {},
          "execution_count": 16
        }
      ]
    },
    {
      "cell_type": "markdown",
      "source": [
        "### Provide a list of unique items offered for sale to eat at Chipotle."
      ],
      "metadata": {
        "id": "QLria4x4PK7g"
      }
    },
    {
      "cell_type": "code",
      "source": [
        "unique_items = chipo['item_name'].unique()\n",
        "unique_items\n"
      ],
      "metadata": {
        "colab": {
          "base_uri": "https://localhost:8080/"
        },
        "id": "kapmJ_EmjHmS",
        "outputId": "9105fc87-531f-45fc-ba7c-83b12d7387df"
      },
      "execution_count": null,
      "outputs": [
        {
          "output_type": "execute_result",
          "data": {
            "text/plain": [
              "array(['Chips and Fresh Tomato Salsa', 'Izze', 'Nantucket Nectar',\n",
              "       'Chips and Tomatillo-Green Chili Salsa', 'Chicken Bowl',\n",
              "       'Side of Chips', 'Steak Burrito', 'Steak Soft Tacos',\n",
              "       'Chips and Guacamole', 'Chicken Crispy Tacos',\n",
              "       'Chicken Soft Tacos', 'Chicken Burrito', 'Canned Soda',\n",
              "       'Barbacoa Burrito', 'Carnitas Burrito', 'Carnitas Bowl',\n",
              "       'Bottled Water', 'Chips and Tomatillo Green Chili Salsa',\n",
              "       'Barbacoa Bowl', 'Chips', 'Chicken Salad Bowl', 'Steak Bowl',\n",
              "       'Barbacoa Soft Tacos', 'Veggie Burrito', 'Veggie Bowl',\n",
              "       'Steak Crispy Tacos', 'Chips and Tomatillo Red Chili Salsa',\n",
              "       'Barbacoa Crispy Tacos', 'Veggie Salad Bowl',\n",
              "       'Chips and Roasted Chili-Corn Salsa',\n",
              "       'Chips and Roasted Chili Corn Salsa', 'Carnitas Soft Tacos',\n",
              "       'Chicken Salad', 'Canned Soft Drink', 'Steak Salad Bowl',\n",
              "       '6 Pack Soft Drink', 'Chips and Tomatillo-Red Chili Salsa', 'Bowl',\n",
              "       'Burrito', 'Crispy Tacos', 'Carnitas Crispy Tacos', 'Steak Salad',\n",
              "       'Chips and Mild Fresh Tomato Salsa', 'Veggie Soft Tacos',\n",
              "       'Carnitas Salad Bowl', 'Barbacoa Salad Bowl', 'Salad',\n",
              "       'Veggie Crispy Tacos', 'Veggie Salad', 'Carnitas Salad'],\n",
              "      dtype=object)"
            ]
          },
          "metadata": {},
          "execution_count": 17
        }
      ]
    },
    {
      "cell_type": "markdown",
      "metadata": {
        "id": "Zg3Zn70UZaKb"
      },
      "source": [
        "### How many different items are sold?"
      ]
    },
    {
      "cell_type": "code",
      "source": [
        "chipo['item_name'].nunique()"
      ],
      "metadata": {
        "colab": {
          "base_uri": "https://localhost:8080/"
        },
        "id": "cQ3iuSnxjOMz",
        "outputId": "8c1b8e13-08e7-4063-984f-8835f9883a8e"
      },
      "execution_count": null,
      "outputs": [
        {
          "output_type": "execute_result",
          "data": {
            "text/plain": [
              "50"
            ]
          },
          "metadata": {},
          "execution_count": 29
        }
      ]
    },
    {
      "cell_type": "markdown",
      "metadata": {
        "id": "F8LZ6RUiZaKY"
      },
      "source": [
        "### How much revenue was generated for the period in the dataset?\n"
      ]
    },
    {
      "cell_type": "code",
      "source": [
        "chipo['item_price'] = chipo['item_price'].astype(str).str.replace('$', '', regex=False).astype(float)\n",
        "\n",
        "revenue = (chipo['quantity'] * chipo['item_price']).sum()\n",
        "\n",
        "revenue\n"
      ],
      "metadata": {
        "colab": {
          "base_uri": "https://localhost:8080/"
        },
        "id": "o7ZRmuwUj4ek",
        "outputId": "a1b802fe-a295-4394-da1a-21dde6f5caaf"
      },
      "execution_count": null,
      "outputs": [
        {
          "output_type": "execute_result",
          "data": {
            "text/plain": [
              "39237.02"
            ]
          },
          "metadata": {},
          "execution_count": 30
        }
      ]
    },
    {
      "cell_type": "markdown",
      "metadata": {
        "id": "NWXRgUCxZaKa"
      },
      "source": [
        "### What is the average revenue amount per order?"
      ]
    },
    {
      "cell_type": "code",
      "source": [
        "chipo['item_price'] = chipo['item_price'].astype(str).str.replace('$', '', regex=False).astype(float)\n",
        "\n",
        "chipo['revenue'] = chipo['quantity'] * chipo['item_price']\n",
        "\n",
        "order_grouped = chipo.groupby(by=['order_id'])[['quantity', 'revenue']].sum()\n",
        "\n",
        "avg_revenue_per_order = order_grouped['revenue'].mean()\n",
        "\n",
        "avg_revenue_per_order"
      ],
      "metadata": {
        "colab": {
          "base_uri": "https://localhost:8080/"
        },
        "id": "QSVpckeOkJ9a",
        "outputId": "6d682085-8a0d-4833-dc7f-a96c9bfecdda"
      },
      "execution_count": null,
      "outputs": [
        {
          "output_type": "execute_result",
          "data": {
            "text/plain": [
              "21.39423118865867"
            ]
          },
          "metadata": {},
          "execution_count": 32
        }
      ]
    },
    {
      "cell_type": "markdown",
      "metadata": {
        "id": "-8gqdPUBZaKZ"
      },
      "source": [
        "### How many orders were made in the period?"
      ]
    },
    {
      "cell_type": "code",
      "source": [
        "order_count = chipo['order_id'].nunique()\n",
        "order_count"
      ],
      "metadata": {
        "colab": {
          "base_uri": "https://localhost:8080/"
        },
        "id": "GITn-R9xkdja",
        "outputId": "06c84454-cea0-42a7-d38d-975b061964d6"
      },
      "execution_count": null,
      "outputs": [
        {
          "output_type": "execute_result",
          "data": {
            "text/plain": [
              "1834"
            ]
          },
          "metadata": {},
          "execution_count": 33
        }
      ]
    },
    {
      "cell_type": "markdown",
      "metadata": {
        "id": "3DcqrpKdZaKZ"
      },
      "source": [
        "### How much revenue was generated selling the second most popular item in the menu?\n",
        "\n"
      ]
    },
    {
      "cell_type": "code",
      "source": [
        "c = chipo.groupby('item_name')['quantity'].sum()\n",
        "c = c.sort_values(ascending=False)\n",
        "second_most_popular_item = c.index[1]\n",
        "revenue_second_most_popular = chipo[chipo['item_name'] == second_most_popular_item]['revenue'].sum()\n",
        "revenue_second_most_popular"
      ],
      "metadata": {
        "colab": {
          "base_uri": "https://localhost:8080/"
        },
        "id": "WdHCSso-kkwX",
        "outputId": "46964834-2608-4183-eeb7-28003e148f41"
      },
      "execution_count": null,
      "outputs": [
        {
          "output_type": "execute_result",
          "data": {
            "text/plain": [
              "6387.0599999999995"
            ]
          },
          "metadata": {},
          "execution_count": 34
        }
      ]
    }
  ],
  "metadata": {
    "anaconda-cloud": {},
    "kernelspec": {
      "display_name": "Python [default]",
      "language": "python",
      "name": "python2"
    },
    "language_info": {
      "codemirror_mode": {
        "name": "ipython",
        "version": 2
      },
      "file_extension": ".py",
      "mimetype": "text/x-python",
      "name": "python",
      "nbconvert_exporter": "python",
      "pygments_lexer": "ipython2",
      "version": "2.7.12"
    },
    "colab": {
      "provenance": [],
      "name": "Michael_Ciccarelli_ HW2_ipynb",
      "include_colab_link": true
    }
  },
  "nbformat": 4,
  "nbformat_minor": 0
}